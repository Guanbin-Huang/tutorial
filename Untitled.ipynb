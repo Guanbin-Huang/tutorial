{
 "cells": [
  {
   "cell_type": "code",
   "execution_count": 6,
   "metadata": {},
   "outputs": [
    {
     "name": "stderr",
     "output_type": "stream",
     "text": [
      "<>:5: SyntaxWarning: 'int' object is not callable; perhaps you missed a comma?\n",
      "<>:6: SyntaxWarning: 'int' object is not callable; perhaps you missed a comma?\n",
      "<>:5: SyntaxWarning: 'int' object is not callable; perhaps you missed a comma?\n",
      "<>:6: SyntaxWarning: 'int' object is not callable; perhaps you missed a comma?\n",
      "<ipython-input-6-f82187158bed>:5: SyntaxWarning: 'int' object is not callable; perhaps you missed a comma?\n",
      "  x1 = x1 - 2(x1-3)\n",
      "<ipython-input-6-f82187158bed>:6: SyntaxWarning: 'int' object is not callable; perhaps you missed a comma?\n",
      "  x2 = x2 - 2(x2+4)\n"
     ]
    }
   ],
   "source": [
    "def gd(epoch = 2000):\n",
    "    x1 = 9\n",
    "    x2 = 4\n",
    "    for i in range(epoch):\n",
    "        x1 = x1 - 2(x1-3)\n",
    "        x2 = x2 - 2(x2+4)\n",
    "\n",
    "    return x1,x2\n"
   ]
  }
 ],
 "metadata": {
  "kernelspec": {
   "display_name": "Python 3",
   "language": "python",
   "name": "python3"
  },
  "language_info": {
   "codemirror_mode": {
    "name": "ipython",
    "version": 3
   },
   "file_extension": ".py",
   "mimetype": "text/x-python",
   "name": "python",
   "nbconvert_exporter": "python",
   "pygments_lexer": "ipython3",
   "version": "3.8.5"
  }
 },
 "nbformat": 4,
 "nbformat_minor": 4
}
